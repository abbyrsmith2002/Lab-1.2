{
 "cells": [
  {
   "cell_type": "code",
   "execution_count": 1,
   "id": "6e9ffafd-38da-409e-aae4-86d3999b9896",
   "metadata": {},
   "outputs": [],
   "source": [
    "import polars as pl"
   ]
  },
  {
   "cell_type": "code",
   "execution_count": null,
   "id": "b47ebbfe-23cc-4fa7-aa82-f04359aa1757",
   "metadata": {},
   "outputs": [],
   "source": [
    "Lab1.2/Data/"
   ]
  },
  {
   "cell_type": "code",
   "execution_count": 3,
   "id": "a0ee270b-2f3d-412f-acf8-98518781b36e",
   "metadata": {},
   "outputs": [
    {
     "data": {
      "text/html": [
       "<div><style>\n",
       ".dataframe > thead > tr,\n",
       ".dataframe > tbody > tr {\n",
       "  text-align: right;\n",
       "  white-space: pre-wrap;\n",
       "}\n",
       "</style>\n",
       "<small>shape: (264, 45)</small><table border=\"1\" class=\"dataframe\"><thead><tr><th></th><th>F1</th><th>F5</th><th>F2</th><th>F1.1</th><th>F2.1</th><th>F6</th><th>F4</th><th>F3</th><th>F5.1</th><th>F1.2</th><th>F2.2</th><th>F6.1</th><th>F2.3</th><th>F4.1</th><th>F2.4</th><th>F5.2</th><th>F2.5</th><th>F6.2</th><th>F1.3</th><th>F2.6</th><th>F5.3</th><th>F4.2</th><th>F2.7</th><th>F3.1</th><th>F2.8</th><th>F5.4</th><th>F3.2</th><th>F1.4</th><th>F3.3</th><th>F1.5</th><th>F5.5</th><th>F6.3</th><th>F1.6</th><th>F5.6</th><th>F2.9</th><th>F3.4</th><th>F4.3</th><th>F2.10</th><th>F1.7</th><th>F6.4</th><th>F4.4</th><th>F5.7</th><th>F3.5</th><th>F2.11</th></tr><tr><td>i64</td><td>str</td><td>str</td><td>str</td><td>str</td><td>str</td><td>str</td><td>str</td><td>str</td><td>str</td><td>str</td><td>str</td><td>str</td><td>str</td><td>str</td><td>str</td><td>str</td><td>str</td><td>str</td><td>str</td><td>str</td><td>str</td><td>str</td><td>str</td><td>str</td><td>str</td><td>str</td><td>str</td><td>str</td><td>str</td><td>str</td><td>str</td><td>str</td><td>str</td><td>str</td><td>str</td><td>str</td><td>str</td><td>str</td><td>str</td><td>str</td><td>str</td><td>str</td><td>str</td><td>str</td></tr></thead><tbody><tr><td>1</td><td>&quot;Somewhat Agree&quot;</td><td>&quot;Somewhat Disagree&quot;</td><td>&quot;Somewhat Agree&quot;</td><td>&quot;Somewhat Agree&quot;</td><td>&quot;Somewhat Agree&quot;</td><td>&quot;Somewhat Disagree&quot;</td><td>&quot;Somewhat Agree&quot;</td><td>&quot;Somewhat Agree&quot;</td><td>&quot;Somewhat Agree&quot;</td><td>&quot;Somewhat Agree&quot;</td><td>&quot;Somewhat Agree&quot;</td><td>&quot;Somewhat Agree&quot;</td><td>&quot;Somewhat Agree&quot;</td><td>&quot;Somewhat Agree&quot;</td><td>&quot;Somewhat Agree&quot;</td><td>&quot;Somewhat Agree&quot;</td><td>&quot;Somewhat Agree&quot;</td><td>&quot;Somewhat Agree&quot;</td><td>&quot;Somewhat Agree&quot;</td><td>&quot;Somewhat Agree&quot;</td><td>&quot;Somewhat Agree&quot;</td><td>&quot;Somewhat Agree&quot;</td><td>&quot;Somewhat Agree&quot;</td><td>&quot;Somewhat Disagree&quot;</td><td>&quot;Somewhat Agree&quot;</td><td>&quot;Somewhat Agree&quot;</td><td>&quot;Somewhat Agree&quot;</td><td>&quot;Neither Agree nor Disagree&quot;</td><td>&quot;Somewhat Agree&quot;</td><td>&quot;Somewhat Agree&quot;</td><td>&quot;Somewhat Disagree&quot;</td><td>&quot;Somewhat Disagree&quot;</td><td>&quot;Somewhat Agree&quot;</td><td>&quot;Somewhat Agree&quot;</td><td>&quot;Somewhat Agree&quot;</td><td>&quot;Somewhat Disagree&quot;</td><td>&quot;Neither Agree nor Disagree&quot;</td><td>&quot;Somewhat Agree&quot;</td><td>&quot;Somewhat Agree&quot;</td><td>&quot;Somewhat Agree&quot;</td><td>&quot;Somewhat Agree&quot;</td><td>&quot;Somewhat Agree&quot;</td><td>&quot;Somewhat Agree&quot;</td><td>&quot;Somewhat Agree&quot;</td></tr><tr><td>2</td><td>&quot;Somewhat Agree&quot;</td><td>&quot;Somewhat Disagree&quot;</td><td>&quot;Somewhat Agree&quot;</td><td>&quot;Somewhat Agree&quot;</td><td>&quot;Somewhat Agree&quot;</td><td>&quot;Somewhat Disagree&quot;</td><td>&quot;Somewhat Agree&quot;</td><td>&quot;Neither Agree nor Disagree&quot;</td><td>&quot;Neither Agree nor Disagree&quot;</td><td>&quot;Somewhat Agree&quot;</td><td>&quot;Neither Agree nor Disagree&quot;</td><td>&quot;Somewhat Agree&quot;</td><td>&quot;Somewhat Agree&quot;</td><td>&quot;Neither Agree nor Disagree&quot;</td><td>&quot;Somewhat Agree&quot;</td><td>&quot;Somewhat Agree&quot;</td><td>&quot;Somewhat Agree&quot;</td><td>&quot;Somewhat Agree&quot;</td><td>&quot;Somewhat Agree&quot;</td><td>&quot;Somewhat Agree&quot;</td><td>&quot;Somewhat Agree&quot;</td><td>&quot;Somewhat Agree&quot;</td><td>&quot;Somewhat Agree&quot;</td><td>&quot;Neither Agree nor Disagree&quot;</td><td>&quot;Somewhat Agree&quot;</td><td>&quot;Neither Agree nor Disagree&quot;</td><td>&quot;Neither Agree nor Disagree&quot;</td><td>&quot;Somewhat Agree&quot;</td><td>&quot;Neither Agree nor Disagree&quot;</td><td>&quot;Neither Agree nor Disagree&quot;</td><td>&quot;Neither Agree nor Disagree&quot;</td><td>&quot;Somewhat Disagree&quot;</td><td>&quot;Somewhat Agree&quot;</td><td>&quot;Somewhat Disagree&quot;</td><td>&quot;Somewhat Agree&quot;</td><td>&quot;Somewhat Agree&quot;</td><td>&quot;Neither Agree nor Disagree&quot;</td><td>&quot;Somewhat Agree&quot;</td><td>&quot;Somewhat Agree&quot;</td><td>&quot;Somewhat Disagree&quot;</td><td>&quot;Neither Agree nor Disagree&quot;</td><td>&quot;Somewhat Agree&quot;</td><td>&quot;Neither Agree nor Disagree&quot;</td><td>&quot;Somewhat Agree&quot;</td></tr><tr><td>3</td><td>&quot;Strongly Agree&quot;</td><td>&quot;Neither Agree nor Disagree&quot;</td><td>&quot;Somewhat Agree&quot;</td><td>&quot;Strongly Agree&quot;</td><td>&quot;Strongly Agree&quot;</td><td>&quot;Somewhat Disagree&quot;</td><td>&quot;Somewhat Agree&quot;</td><td>&quot;Somewhat Agree&quot;</td><td>&quot;Somewhat Agree&quot;</td><td>&quot;Strongly Agree&quot;</td><td>&quot;Somewhat Agree&quot;</td><td>&quot;Neither Agree nor Disagree&quot;</td><td>&quot;Somewhat Agree&quot;</td><td>&quot;Neither Agree nor Disagree&quot;</td><td>&quot;Somewhat Agree&quot;</td><td>&quot;Somewhat Disagree&quot;</td><td>&quot;Strongly Agree&quot;</td><td>&quot;Somewhat Agree&quot;</td><td>&quot;Strongly Agree&quot;</td><td>&quot;Somewhat Agree&quot;</td><td>&quot;Somewhat Agree&quot;</td><td>&quot;Somewhat Agree&quot;</td><td>&quot;&quot;</td><td>&quot;Somewhat Disagree&quot;</td><td>&quot;Somewhat Agree&quot;</td><td>&quot;Somewhat Agree&quot;</td><td>&quot;Somewhat Agree&quot;</td><td>&quot;Somewhat Disagree&quot;</td><td>&quot;Somewhat Agree&quot;</td><td>&quot;Strongly Agree&quot;</td><td>&quot;Somewhat Disagree&quot;</td><td>&quot;Somewhat Disagree&quot;</td><td>&quot;Strongly Agree&quot;</td><td>&quot;Somewhat Disagree&quot;</td><td>&quot;Somewhat Agree&quot;</td><td>&quot;Somewhat Agree&quot;</td><td>&quot;Neither Agree nor Disagree&quot;</td><td>&quot;Somewhat Agree&quot;</td><td>&quot;Somewhat Agree&quot;</td><td>&quot;Somewhat Agree&quot;</td><td>&quot;Somewhat Agree&quot;</td><td>&quot;Strongly Agree&quot;</td><td>&quot;Strongly Disagree&quot;</td><td>&quot;Somewhat Agree&quot;</td></tr><tr><td>4</td><td>&quot;Somewhat Agree&quot;</td><td>&quot;Somewhat Agree&quot;</td><td>&quot;Strongly Agree&quot;</td><td>&quot;Somewhat Agree&quot;</td><td>&quot;Strongly Agree&quot;</td><td>&quot;Neither Agree nor Disagree&quot;</td><td>&quot;Neither Agree nor Disagree&quot;</td><td>&quot;Somewhat Disagree&quot;</td><td>&quot;Somewhat Agree&quot;</td><td>&quot;Strongly Agree&quot;</td><td>&quot;Strongly Agree&quot;</td><td>&quot;Somewhat Agree&quot;</td><td>&quot;Somewhat Agree&quot;</td><td>&quot;Neither Agree nor Disagree&quot;</td><td>&quot;Strongly Agree&quot;</td><td>&quot;Somewhat Disagree&quot;</td><td>&quot;Strongly Agree&quot;</td><td>&quot;Somewhat Agree&quot;</td><td>&quot;Somewhat Agree&quot;</td><td>&quot;Strongly Agree&quot;</td><td>&quot;Somewhat Agree&quot;</td><td>&quot;Somewhat Agree&quot;</td><td>&quot;Somewhat Agree&quot;</td><td>&quot;Somewhat Disagree&quot;</td><td>&quot;Somewhat Agree&quot;</td><td>&quot;Somewhat Agree&quot;</td><td>&quot;Somewhat Disagree&quot;</td><td>&quot;Neither Agree nor Disagree&quot;</td><td>&quot;Somewhat Disagree&quot;</td><td>&quot;Somewhat Agree&quot;</td><td>&quot;Somewhat Disagree&quot;</td><td>&quot;Somewhat Agree&quot;</td><td>&quot;Strongly Agree&quot;</td><td>&quot;Somewhat Disagree&quot;</td><td>&quot;Somewhat Agree&quot;</td><td>&quot;Somewhat Disagree&quot;</td><td>&quot;Somewhat Agree&quot;</td><td>&quot;Somewhat Agree&quot;</td><td>&quot;Neither Agree nor Disagree&quot;</td><td>&quot;Neither Agree nor Disagree&quot;</td><td>&quot;Neither Agree nor Disagree&quot;</td><td>&quot;Somewhat Agree&quot;</td><td>&quot;Somewhat Disagree&quot;</td><td>&quot;Somewhat Agree&quot;</td></tr><tr><td>5</td><td>&quot;Strongly Agree&quot;</td><td>&quot;Strongly Disagree&quot;</td><td>&quot;Neither Agree nor Disagree&quot;</td><td>&quot;Strongly Agree&quot;</td><td>&quot;Somewhat Agree&quot;</td><td>&quot;Strongly Disagree&quot;</td><td>&quot;Strongly Agree&quot;</td><td>&quot;Somewhat Agree&quot;</td><td>&quot;Neither Agree nor Disagree&quot;</td><td>&quot;Strongly Agree&quot;</td><td>&quot;Somewhat Agree&quot;</td><td>&quot;Somewhat Agree&quot;</td><td>&quot;Somewhat Disagree&quot;</td><td>&quot;Neither Agree nor Disagree&quot;</td><td>&quot;Somewhat Agree&quot;</td><td>&quot;Strongly Disagree&quot;</td><td>&quot;Strongly Agree&quot;</td><td>&quot;Strongly Agree&quot;</td><td>&quot;Strongly Agree&quot;</td><td>&quot;Strongly Agree&quot;</td><td>&quot;Strongly Agree&quot;</td><td>&quot;Somewhat Agree&quot;</td><td>&quot;Somewhat Agree&quot;</td><td>&quot;Somewhat Agree&quot;</td><td>&quot;Somewhat Agree&quot;</td><td>&quot;Neither Agree nor Disagree&quot;</td><td>&quot;Somewhat Agree&quot;</td><td>&quot;Somewhat Agree&quot;</td><td>&quot;Somewhat Agree&quot;</td><td>&quot;Somewhat Agree&quot;</td><td>&quot;Strongly Disagree&quot;</td><td>&quot;Neither Agree nor Disagree&quot;</td><td>&quot;Strongly Agree&quot;</td><td>&quot;Strongly Disagree&quot;</td><td>&quot;Somewhat Agree&quot;</td><td>&quot;Somewhat Agree&quot;</td><td>&quot;Neither Agree nor Disagree&quot;</td><td>&quot;Somewhat Agree&quot;</td><td>&quot;Somewhat Agree&quot;</td><td>&quot;Somewhat Agree&quot;</td><td>&quot;Somewhat Agree&quot;</td><td>&quot;Strongly Agree&quot;</td><td>&quot;Somewhat Disagree&quot;</td><td>&quot;Somewhat Agree&quot;</td></tr><tr><td>&hellip;</td><td>&hellip;</td><td>&hellip;</td><td>&hellip;</td><td>&hellip;</td><td>&hellip;</td><td>&hellip;</td><td>&hellip;</td><td>&hellip;</td><td>&hellip;</td><td>&hellip;</td><td>&hellip;</td><td>&hellip;</td><td>&hellip;</td><td>&hellip;</td><td>&hellip;</td><td>&hellip;</td><td>&hellip;</td><td>&hellip;</td><td>&hellip;</td><td>&hellip;</td><td>&hellip;</td><td>&hellip;</td><td>&hellip;</td><td>&hellip;</td><td>&hellip;</td><td>&hellip;</td><td>&hellip;</td><td>&hellip;</td><td>&hellip;</td><td>&hellip;</td><td>&hellip;</td><td>&hellip;</td><td>&hellip;</td><td>&hellip;</td><td>&hellip;</td><td>&hellip;</td><td>&hellip;</td><td>&hellip;</td><td>&hellip;</td><td>&hellip;</td><td>&hellip;</td><td>&hellip;</td><td>&hellip;</td><td>&hellip;</td></tr><tr><td>260</td><td>&quot;Somewhat Agree&quot;</td><td>&quot;Somewhat Disagree&quot;</td><td>&quot;Somewhat Agree&quot;</td><td>&quot;Neither Agree nor Disagree&quot;</td><td>&quot;Somewhat Agree&quot;</td><td>&quot;Strongly Disagree&quot;</td><td>&quot;Somewhat Agree&quot;</td><td>&quot;Neither Agree nor Disagree&quot;</td><td>&quot;Somewhat Agree&quot;</td><td>&quot;Strongly Agree&quot;</td><td>&quot;Strongly Agree&quot;</td><td>&quot;Somewhat Agree&quot;</td><td>&quot;Somewhat Agree&quot;</td><td>&quot;Neither Agree nor Disagree&quot;</td><td>&quot;Somewhat Agree&quot;</td><td>&quot;Somewhat Disagree&quot;</td><td>&quot;Somewhat Agree&quot;</td><td>&quot;Strongly Agree&quot;</td><td>&quot;Somewhat Agree&quot;</td><td>&quot;Strongly Agree&quot;</td><td>&quot;Somewhat Agree&quot;</td><td>&quot;Somewhat Agree&quot;</td><td>&quot;Somewhat Agree&quot;</td><td>&quot;Neither Agree nor Disagree&quot;</td><td>&quot;Somewhat Agree&quot;</td><td>&quot;Somewhat Agree&quot;</td><td>&quot;Somewhat Agree&quot;</td><td>&quot;Somewhat Agree&quot;</td><td>&quot;Somewhat Agree&quot;</td><td>&quot;Somewhat Agree&quot;</td><td>&quot;Strongly Disagree&quot;</td><td>&quot;Strongly Disagree&quot;</td><td>&quot;Strongly Agree&quot;</td><td>&quot;Strongly Disagree&quot;</td><td>&quot;Strongly Agree&quot;</td><td>&quot;Somewhat Agree&quot;</td><td>&quot;Neither Agree nor Disagree&quot;</td><td>&quot;Somewhat Agree&quot;</td><td>&quot;Neither Agree nor Disagree&quot;</td><td>&quot;Neither Agree nor Disagree&quot;</td><td>&quot;Somewhat Agree&quot;</td><td>&quot;Somewhat Agree&quot;</td><td>&quot;Somewhat Agree&quot;</td><td>&quot;Neither Agree nor Disagree&quot;</td></tr><tr><td>261</td><td>&quot;Somewhat Agree&quot;</td><td>&quot;Somewhat Agree&quot;</td><td>&quot;Strongly Agree&quot;</td><td>&quot;Strongly Agree&quot;</td><td>&quot;Somewhat Agree&quot;</td><td>&quot;Somewhat Disagree&quot;</td><td>&quot;Somewhat Agree&quot;</td><td>&quot;Somewhat Agree&quot;</td><td>&quot;Somewhat Agree&quot;</td><td>&quot;Somewhat Agree&quot;</td><td>&quot;Somewhat Agree&quot;</td><td>&quot;Somewhat Agree&quot;</td><td>&quot;Somewhat Agree&quot;</td><td>&quot;Somewhat Disagree&quot;</td><td>&quot;Somewhat Agree&quot;</td><td>&quot;Neither Agree nor Disagree&quot;</td><td>&quot;Somewhat Agree&quot;</td><td>&quot;Neither Agree nor Disagree&quot;</td><td>&quot;Somewhat Agree&quot;</td><td>&quot;Somewhat Agree&quot;</td><td>&quot;Somewhat Agree&quot;</td><td>&quot;Somewhat Agree&quot;</td><td>&quot;Somewhat Agree&quot;</td><td>&quot;Somewhat Agree&quot;</td><td>&quot;Somewhat Agree&quot;</td><td>&quot;Somewhat Agree&quot;</td><td>&quot;Somewhat Agree&quot;</td><td>&quot;Neither Agree nor Disagree&quot;</td><td>&quot;Somewhat Agree&quot;</td><td>&quot;Somewhat Agree&quot;</td><td>&quot;Somewhat Disagree&quot;</td><td>&quot;Somewhat Disagree&quot;</td><td>&quot;Somewhat Agree&quot;</td><td>&quot;Neither Agree nor Disagree&quot;</td><td>&quot;Somewhat Agree&quot;</td><td>&quot;Somewhat Agree&quot;</td><td>&quot;Neither Agree nor Disagree&quot;</td><td>&quot;Neither Agree nor Disagree&quot;</td><td>&quot;Neither Agree nor Disagree&quot;</td><td>&quot;&quot;</td><td>&quot;Somewhat Agree&quot;</td><td>&quot;Somewhat Agree&quot;</td><td>&quot;Somewhat Agree&quot;</td><td>&quot;Somewhat Agree&quot;</td></tr><tr><td>262</td><td>&quot;Somewhat Agree&quot;</td><td>&quot;Neither Agree nor Disagree&quot;</td><td>&quot;Somewhat Agree&quot;</td><td>&quot;Strongly Agree&quot;</td><td>&quot;Strongly Agree&quot;</td><td>&quot;Somewhat Disagree&quot;</td><td>&quot;Strongly Agree&quot;</td><td>&quot;Somewhat Agree&quot;</td><td>&quot;Somewhat Agree&quot;</td><td>&quot;Strongly Agree&quot;</td><td>&quot;Somewhat Agree&quot;</td><td>&quot;Somewhat Agree&quot;</td><td>&quot;Neither Agree nor Disagree&quot;</td><td>&quot;Strongly Disagree&quot;</td><td>&quot;Somewhat Agree&quot;</td><td>&quot;Strongly Disagree&quot;</td><td>&quot;Somewhat Agree&quot;</td><td>&quot;Somewhat Agree&quot;</td><td>&quot;Neither Agree nor Disagree&quot;</td><td>&quot;Neither Agree nor Disagree&quot;</td><td>&quot;Somewhat Agree&quot;</td><td>&quot;Somewhat Agree&quot;</td><td>&quot;Neither Agree nor Disagree&quot;</td><td>&quot;Somewhat Disagree&quot;</td><td>&quot;Strongly Agree&quot;</td><td>&quot;Somewhat Agree&quot;</td><td>&quot;Somewhat Agree&quot;</td><td>&quot;Somewhat Disagree&quot;</td><td>&quot;Somewhat Agree&quot;</td><td>&quot;Somewhat Agree&quot;</td><td>&quot;Strongly Disagree&quot;</td><td>&quot;Somewhat Disagree&quot;</td><td>&quot;Strongly Agree&quot;</td><td>&quot;Strongly Disagree&quot;</td><td>&quot;Somewhat Agree&quot;</td><td>&quot;Neither Agree nor Disagree&quot;</td><td>&quot;Somewhat Disagree&quot;</td><td>&quot;Somewhat Agree&quot;</td><td>&quot;Somewhat Disagree&quot;</td><td>&quot;Neither Agree nor Disagree&quot;</td><td>&quot;Strongly Agree&quot;</td><td>&quot;Neither Agree nor Disagree&quot;</td><td>&quot;Neither Agree nor Disagree&quot;</td><td>&quot;Somewhat Agree&quot;</td></tr><tr><td>263</td><td>&quot;Strongly Agree&quot;</td><td>&quot;Somewhat Disagree&quot;</td><td>&quot;Strongly Agree&quot;</td><td>&quot;Strongly Agree&quot;</td><td>&quot;Somewhat Agree&quot;</td><td>&quot;Somewhat Disagree&quot;</td><td>&quot;Somewhat Agree&quot;</td><td>&quot;Somewhat Agree&quot;</td><td>&quot;Somewhat Agree&quot;</td><td>&quot;Strongly Agree&quot;</td><td>&quot;Strongly Agree&quot;</td><td>&quot;Somewhat Agree&quot;</td><td>&quot;Somewhat Agree&quot;</td><td>&quot;Neither Agree nor Disagree&quot;</td><td>&quot;Somewhat Agree&quot;</td><td>&quot;Strongly Disagree&quot;</td><td>&quot;Somewhat Agree&quot;</td><td>&quot;Strongly Agree&quot;</td><td>&quot;Strongly Agree&quot;</td><td>&quot;Somewhat Agree&quot;</td><td>&quot;Somewhat Disagree&quot;</td><td>&quot;Somewhat Agree&quot;</td><td>&quot;Somewhat Agree&quot;</td><td>&quot;Somewhat Disagree&quot;</td><td>&quot;Somewhat Agree&quot;</td><td>&quot;Somewhat Disagree&quot;</td><td>&quot;Somewhat Agree&quot;</td><td>&quot;Somewhat Agree&quot;</td><td>&quot;Somewhat Agree&quot;</td><td>&quot;Strongly Agree&quot;</td><td>&quot;Somewhat Disagree&quot;</td><td>&quot;Somewhat Disagree&quot;</td><td>&quot;Strongly Agree&quot;</td><td>&quot;Strongly Disagree&quot;</td><td>&quot;Somewhat Agree&quot;</td><td>&quot;Somewhat Agree&quot;</td><td>&quot;Somewhat Disagree&quot;</td><td>&quot;Somewhat Agree&quot;</td><td>&quot;Somewhat Agree&quot;</td><td>&quot;Somewhat Disagree&quot;</td><td>&quot;Somewhat Agree&quot;</td><td>&quot;Strongly Agree&quot;</td><td>&quot;Somewhat Disagree&quot;</td><td>&quot;Somewhat Agree&quot;</td></tr><tr><td>264</td><td>&quot;Somewhat Agree&quot;</td><td>&quot;Strongly Disagree&quot;</td><td>&quot;Strongly Agree&quot;</td><td>&quot;Somewhat Agree&quot;</td><td>&quot;Strongly Agree&quot;</td><td>&quot;Neither Agree nor Disagree&quot;</td><td>&quot;Strongly Agree&quot;</td><td>&quot;Neither Agree nor Disagree&quot;</td><td>&quot;Somewhat Disagree&quot;</td><td>&quot;Strongly Agree&quot;</td><td>&quot;Strongly Agree&quot;</td><td>&quot;Somewhat Agree&quot;</td><td>&quot;Somewhat Agree&quot;</td><td>&quot;Somewhat Disagree&quot;</td><td>&quot;Somewhat Agree&quot;</td><td>&quot;Strongly Disagree&quot;</td><td>&quot;Strongly Agree&quot;</td><td>&quot;Somewhat Agree&quot;</td><td>&quot;Somewhat Agree&quot;</td><td>&quot;Strongly Agree&quot;</td><td>&quot;Somewhat Agree&quot;</td><td>&quot;Somewhat Agree&quot;</td><td>&quot;Somewhat Agree&quot;</td><td>&quot;Neither Agree nor Disagree&quot;</td><td>&quot;Somewhat Agree&quot;</td><td>&quot;Neither Agree nor Disagree&quot;</td><td>&quot;Neither Agree nor Disagree&quot;</td><td>&quot;Somewhat Agree&quot;</td><td>&quot;Neither Agree nor Disagree&quot;</td><td>&quot;Somewhat Agree&quot;</td><td>&quot;Strongly Disagree&quot;</td><td>&quot;Neither Agree nor Disagree&quot;</td><td>&quot;Somewhat Agree&quot;</td><td>&quot;Somewhat Disagree&quot;</td><td>&quot;Somewhat Agree&quot;</td><td>&quot;Neither Agree nor Disagree&quot;</td><td>&quot;Somewhat Disagree&quot;</td><td>&quot;Somewhat Agree&quot;</td><td>&quot;Somewhat Agree&quot;</td><td>&quot;Neither Agree nor Disagree&quot;</td><td>&quot;Somewhat Agree&quot;</td><td>&quot;Strongly Agree&quot;</td><td>&quot;Strongly Disagree&quot;</td><td>&quot;Somewhat Agree&quot;</td></tr></tbody></table></div>"
      ],
      "text/plain": [
       "shape: (264, 45)\n",
       "┌─────┬────────────┬────────────┬────────────┬───┬────────────┬────────────┬───────────┬───────────┐\n",
       "│     ┆ F1         ┆ F5         ┆ F2         ┆ … ┆ F4.4       ┆ F5.7       ┆ F3.5      ┆ F2.11     │\n",
       "│ --- ┆ ---        ┆ ---        ┆ ---        ┆   ┆ ---        ┆ ---        ┆ ---       ┆ ---       │\n",
       "│ i64 ┆ str        ┆ str        ┆ str        ┆   ┆ str        ┆ str        ┆ str       ┆ str       │\n",
       "╞═════╪════════════╪════════════╪════════════╪═══╪════════════╪════════════╪═══════════╪═══════════╡\n",
       "│ 1   ┆ Somewhat   ┆ Somewhat   ┆ Somewhat   ┆ … ┆ Somewhat   ┆ Somewhat   ┆ Somewhat  ┆ Somewhat  │\n",
       "│     ┆ Agree      ┆ Disagree   ┆ Agree      ┆   ┆ Agree      ┆ Agree      ┆ Agree     ┆ Agree     │\n",
       "│ 2   ┆ Somewhat   ┆ Somewhat   ┆ Somewhat   ┆ … ┆ Neither    ┆ Somewhat   ┆ Neither   ┆ Somewhat  │\n",
       "│     ┆ Agree      ┆ Disagree   ┆ Agree      ┆   ┆ Agree nor  ┆ Agree      ┆ Agree nor ┆ Agree     │\n",
       "│     ┆            ┆            ┆            ┆   ┆ Disagree   ┆            ┆ Disagree  ┆           │\n",
       "│ 3   ┆ Strongly   ┆ Neither    ┆ Somewhat   ┆ … ┆ Somewhat   ┆ Strongly   ┆ Strongly  ┆ Somewhat  │\n",
       "│     ┆ Agree      ┆ Agree nor  ┆ Agree      ┆   ┆ Agree      ┆ Agree      ┆ Disagree  ┆ Agree     │\n",
       "│     ┆            ┆ Disagree   ┆            ┆   ┆            ┆            ┆           ┆           │\n",
       "│ 4   ┆ Somewhat   ┆ Somewhat   ┆ Strongly   ┆ … ┆ Neither    ┆ Somewhat   ┆ Somewhat  ┆ Somewhat  │\n",
       "│     ┆ Agree      ┆ Agree      ┆ Agree      ┆   ┆ Agree nor  ┆ Agree      ┆ Disagree  ┆ Agree     │\n",
       "│     ┆            ┆            ┆            ┆   ┆ Disagree   ┆            ┆           ┆           │\n",
       "│ 5   ┆ Strongly   ┆ Strongly   ┆ Neither    ┆ … ┆ Somewhat   ┆ Strongly   ┆ Somewhat  ┆ Somewhat  │\n",
       "│     ┆ Agree      ┆ Disagree   ┆ Agree nor  ┆   ┆ Agree      ┆ Agree      ┆ Disagree  ┆ Agree     │\n",
       "│     ┆            ┆            ┆ Disagree   ┆   ┆            ┆            ┆           ┆           │\n",
       "│ …   ┆ …          ┆ …          ┆ …          ┆ … ┆ …          ┆ …          ┆ …         ┆ …         │\n",
       "│ 260 ┆ Somewhat   ┆ Somewhat   ┆ Somewhat   ┆ … ┆ Somewhat   ┆ Somewhat   ┆ Somewhat  ┆ Neither   │\n",
       "│     ┆ Agree      ┆ Disagree   ┆ Agree      ┆   ┆ Agree      ┆ Agree      ┆ Agree     ┆ Agree nor │\n",
       "│     ┆            ┆            ┆            ┆   ┆            ┆            ┆           ┆ Disagree  │\n",
       "│ 261 ┆ Somewhat   ┆ Somewhat   ┆ Strongly   ┆ … ┆ Somewhat   ┆ Somewhat   ┆ Somewhat  ┆ Somewhat  │\n",
       "│     ┆ Agree      ┆ Agree      ┆ Agree      ┆   ┆ Agree      ┆ Agree      ┆ Agree     ┆ Agree     │\n",
       "│ 262 ┆ Somewhat   ┆ Neither    ┆ Somewhat   ┆ … ┆ Strongly   ┆ Neither    ┆ Neither   ┆ Somewhat  │\n",
       "│     ┆ Agree      ┆ Agree nor  ┆ Agree      ┆   ┆ Agree      ┆ Agree nor  ┆ Agree nor ┆ Agree     │\n",
       "│     ┆            ┆ Disagree   ┆            ┆   ┆            ┆ Disagree   ┆ Disagree  ┆           │\n",
       "│ 263 ┆ Strongly   ┆ Somewhat   ┆ Strongly   ┆ … ┆ Somewhat   ┆ Strongly   ┆ Somewhat  ┆ Somewhat  │\n",
       "│     ┆ Agree      ┆ Disagree   ┆ Agree      ┆   ┆ Agree      ┆ Agree      ┆ Disagree  ┆ Agree     │\n",
       "│ 264 ┆ Somewhat   ┆ Strongly   ┆ Strongly   ┆ … ┆ Somewhat   ┆ Strongly   ┆ Strongly  ┆ Somewhat  │\n",
       "│     ┆ Agree      ┆ Disagree   ┆ Agree      ┆   ┆ Agree      ┆ Agree      ┆ Disagree  ┆ Agree     │\n",
       "└─────┴────────────┴────────────┴────────────┴───┴────────────┴────────────┴───────────┴───────────┘"
      ]
     },
     "execution_count": 3,
     "metadata": {},
     "output_type": "execute_result"
    }
   ],
   "source": [
    "Health_Survey = pl.read_csv('./Data/health_survey.csv')\n",
    "Health_Survey"
   ]
  },
  {
   "cell_type": "code",
   "execution_count": 11,
   "id": "bad3ef8e-5a3d-470e-af8f-2c3978797215",
   "metadata": {},
   "outputs": [
    {
     "data": {
      "text/html": [
       "<div><style>\n",
       ".dataframe > thead > tr,\n",
       ".dataframe > tbody > tr {\n",
       "  text-align: right;\n",
       "  white-space: pre-wrap;\n",
       "}\n",
       "</style>\n",
       "<small>shape: (44, 5)</small><table border=\"1\" class=\"dataframe\"><thead><tr><th>Question</th><th>Construct</th><th>Question # on Qualtrics Survey</th><th>Needs Reverse Coding?</th><th>Column Name</th></tr><tr><td>str</td><td>i64</td><td>i64</td><td>str</td><td>str</td></tr></thead><tbody><tr><td>&quot;In the future, I plan to parti…</td><td>1</td><td>1</td><td>&quot;No&quot;</td><td>&quot;F1&quot;</td></tr><tr><td>&quot;Individuals are responsible fo…</td><td>5</td><td>2</td><td>&quot;Yes&quot;</td><td>&quot;F5&quot;</td></tr><tr><td>&quot;When tryng to understand the p…</td><td>2</td><td>3</td><td>&quot;No&quot;</td><td>&quot;F2&quot;</td></tr><tr><td>&quot;I plan to become involved in m…</td><td>1</td><td>4</td><td>&quot;No&quot;</td><td>&quot;F1.1&quot;</td></tr><tr><td>&quot;I can communicate well with ot…</td><td>2</td><td>5</td><td>&quot;No&quot;</td><td>&quot;F2.1&quot;</td></tr><tr><td>&hellip;</td><td>&hellip;</td><td>&hellip;</td><td>&hellip;</td><td>&hellip;</td></tr><tr><td>&quot;I prefer the company of people…</td><td>6</td><td>40</td><td>&quot;Yes&quot;</td><td>&quot;F6.4&quot;</td></tr><tr><td>&quot;I have the ability to lead a g…</td><td>4</td><td>41</td><td>&quot;No&quot;</td><td>&quot;F4.4&quot;</td></tr><tr><td>&quot;It is important to me that equ…</td><td>5</td><td>42</td><td>&quot;No&quot;</td><td>&quot;F5.7&quot;</td></tr><tr><td>&quot;I plan to be involved in the p…</td><td>3</td><td>43</td><td>&quot;No&quot;</td><td>&quot;F3.5&quot;</td></tr><tr><td>&quot;I can successfully resolve con…</td><td>2</td><td>44</td><td>&quot;No&quot;</td><td>&quot;F2.11&quot;</td></tr></tbody></table></div>"
      ],
      "text/plain": [
       "shape: (44, 5)\n",
       "┌─────────────────────────────┬───────────┬──────────────────┬───────────────────────┬─────────────┐\n",
       "│ Question                    ┆ Construct ┆ Question # on    ┆ Needs Reverse Coding? ┆ Column Name │\n",
       "│ ---                         ┆ ---       ┆ Qualtrics Survey ┆ ---                   ┆ ---         │\n",
       "│ str                         ┆ i64       ┆ ---              ┆ str                   ┆ str         │\n",
       "│                             ┆           ┆ i64              ┆                       ┆             │\n",
       "╞═════════════════════════════╪═══════════╪══════════════════╪═══════════════════════╪═════════════╡\n",
       "│ In the future, I plan to    ┆ 1         ┆ 1                ┆ No                    ┆ F1          │\n",
       "│ parti…                      ┆           ┆                  ┆                       ┆             │\n",
       "│ Individuals are responsible ┆ 5         ┆ 2                ┆ Yes                   ┆ F5          │\n",
       "│ fo…                         ┆           ┆                  ┆                       ┆             │\n",
       "│ When tryng to understand    ┆ 2         ┆ 3                ┆ No                    ┆ F2          │\n",
       "│ the p…                      ┆           ┆                  ┆                       ┆             │\n",
       "│ I plan to become involved   ┆ 1         ┆ 4                ┆ No                    ┆ F1.1        │\n",
       "│ in m…                       ┆           ┆                  ┆                       ┆             │\n",
       "│ I can communicate well with ┆ 2         ┆ 5                ┆ No                    ┆ F2.1        │\n",
       "│ ot…                         ┆           ┆                  ┆                       ┆             │\n",
       "│ …                           ┆ …         ┆ …                ┆ …                     ┆ …           │\n",
       "│ I prefer the company of     ┆ 6         ┆ 40               ┆ Yes                   ┆ F6.4        │\n",
       "│ people…                     ┆           ┆                  ┆                       ┆             │\n",
       "│ I have the ability to lead  ┆ 4         ┆ 41               ┆ No                    ┆ F4.4        │\n",
       "│ a g…                        ┆           ┆                  ┆                       ┆             │\n",
       "│ It is important to me that  ┆ 5         ┆ 42               ┆ No                    ┆ F5.7        │\n",
       "│ equ…                        ┆           ┆                  ┆                       ┆             │\n",
       "│ I plan to be involved in    ┆ 3         ┆ 43               ┆ No                    ┆ F3.5        │\n",
       "│ the p…                      ┆           ┆                  ┆                       ┆             │\n",
       "│ I can successfully resolve  ┆ 2         ┆ 44               ┆ No                    ┆ F2.11       │\n",
       "│ con…                        ┆           ┆                  ┆                       ┆             │\n",
       "└─────────────────────────────┴───────────┴──────────────────┴───────────────────────┴─────────────┘"
      ]
     },
     "execution_count": 11,
     "metadata": {},
     "output_type": "execute_result"
    }
   ],
   "source": [
    "Reverse_Coding = pl.read_csv('./Data/ReverseCodingItems.csv')\n",
    "Reverse_Coding"
   ]
  },
  {
   "cell_type": "code",
   "execution_count": 10,
   "id": "3e658965-378e-4278-a84f-e2e7b8ec3953",
   "metadata": {},
   "outputs": [
    {
     "data": {
      "text/html": [
       "<div><style>\n",
       ".dataframe > thead > tr,\n",
       ".dataframe > tbody > tr {\n",
       "  text-align: right;\n",
       "  white-space: pre-wrap;\n",
       "}\n",
       "</style>\n",
       "<small>shape: (11_616, 3)</small><table border=\"1\" class=\"dataframe\"><thead><tr><th>Participant</th><th>Question</th><th>Response</th></tr><tr><td>u32</td><td>str</td><td>str</td></tr></thead><tbody><tr><td>1</td><td>&quot;F1&quot;</td><td>&quot;Somewhat Agree&quot;</td></tr><tr><td>2</td><td>&quot;F1&quot;</td><td>&quot;Somewhat Agree&quot;</td></tr><tr><td>3</td><td>&quot;F1&quot;</td><td>&quot;Strongly Agree&quot;</td></tr><tr><td>4</td><td>&quot;F1&quot;</td><td>&quot;Somewhat Agree&quot;</td></tr><tr><td>5</td><td>&quot;F1&quot;</td><td>&quot;Strongly Agree&quot;</td></tr><tr><td>&hellip;</td><td>&hellip;</td><td>&hellip;</td></tr><tr><td>260</td><td>&quot;F2.11&quot;</td><td>&quot;Neither Agree nor Disagree&quot;</td></tr><tr><td>261</td><td>&quot;F2.11&quot;</td><td>&quot;Somewhat Agree&quot;</td></tr><tr><td>262</td><td>&quot;F2.11&quot;</td><td>&quot;Somewhat Agree&quot;</td></tr><tr><td>263</td><td>&quot;F2.11&quot;</td><td>&quot;Somewhat Agree&quot;</td></tr><tr><td>264</td><td>&quot;F2.11&quot;</td><td>&quot;Somewhat Agree&quot;</td></tr></tbody></table></div>"
      ],
      "text/plain": [
       "shape: (11_616, 3)\n",
       "┌─────────────┬──────────┬────────────────────────────┐\n",
       "│ Participant ┆ Question ┆ Response                   │\n",
       "│ ---         ┆ ---      ┆ ---                        │\n",
       "│ u32         ┆ str      ┆ str                        │\n",
       "╞═════════════╪══════════╪════════════════════════════╡\n",
       "│ 1           ┆ F1       ┆ Somewhat Agree             │\n",
       "│ 2           ┆ F1       ┆ Somewhat Agree             │\n",
       "│ 3           ┆ F1       ┆ Strongly Agree             │\n",
       "│ 4           ┆ F1       ┆ Somewhat Agree             │\n",
       "│ 5           ┆ F1       ┆ Strongly Agree             │\n",
       "│ …           ┆ …        ┆ …                          │\n",
       "│ 260         ┆ F2.11    ┆ Neither Agree nor Disagree │\n",
       "│ 261         ┆ F2.11    ┆ Somewhat Agree             │\n",
       "│ 262         ┆ F2.11    ┆ Somewhat Agree             │\n",
       "│ 263         ┆ F2.11    ┆ Somewhat Agree             │\n",
       "│ 264         ┆ F2.11    ┆ Somewhat Agree             │\n",
       "└─────────────┴──────────┴────────────────────────────┘"
      ]
     },
     "execution_count": 10,
     "metadata": {},
     "output_type": "execute_result"
    }
   ],
   "source": [
    "Survey_stacked = (Health_Survey \n",
    "                 .with_row_index('Participant', offset=1)\n",
    "                  .unpivot(Health_Survey.columns[1:],\n",
    "                          index='Participant', \n",
    "                          variable_name='Question', \n",
    "                          value_name='Response')\n",
    "                )\n",
    "Survey_stacked"
   ]
  },
  {
   "cell_type": "code",
   "execution_count": 15,
   "id": "cfe7673b-1e97-4a31-a628-82f1801a8f4f",
   "metadata": {},
   "outputs": [
    {
     "data": {
      "text/html": [
       "<div><style>\n",
       ".dataframe > thead > tr,\n",
       ".dataframe > tbody > tr {\n",
       "  text-align: right;\n",
       "  white-space: pre-wrap;\n",
       "}\n",
       "</style>\n",
       "<small>shape: (5, 7)</small><table border=\"1\" class=\"dataframe\"><thead><tr><th>Participant</th><th>Question</th><th>Response</th><th>Question_right</th><th>Construct</th><th>Question # on Qualtrics Survey</th><th>Needs Reverse Coding?</th></tr><tr><td>u32</td><td>str</td><td>str</td><td>str</td><td>i64</td><td>i64</td><td>str</td></tr></thead><tbody><tr><td>1</td><td>&quot;F1&quot;</td><td>&quot;Somewhat Agree&quot;</td><td>&quot;In the future, I plan to parti…</td><td>1</td><td>1</td><td>&quot;No&quot;</td></tr><tr><td>2</td><td>&quot;F1&quot;</td><td>&quot;Somewhat Agree&quot;</td><td>&quot;In the future, I plan to parti…</td><td>1</td><td>1</td><td>&quot;No&quot;</td></tr><tr><td>3</td><td>&quot;F1&quot;</td><td>&quot;Strongly Agree&quot;</td><td>&quot;In the future, I plan to parti…</td><td>1</td><td>1</td><td>&quot;No&quot;</td></tr><tr><td>4</td><td>&quot;F1&quot;</td><td>&quot;Somewhat Agree&quot;</td><td>&quot;In the future, I plan to parti…</td><td>1</td><td>1</td><td>&quot;No&quot;</td></tr><tr><td>5</td><td>&quot;F1&quot;</td><td>&quot;Strongly Agree&quot;</td><td>&quot;In the future, I plan to parti…</td><td>1</td><td>1</td><td>&quot;No&quot;</td></tr></tbody></table></div>"
      ],
      "text/plain": [
       "shape: (5, 7)\n",
       "┌─────────────┬──────────┬──────────┬────────────────┬───────────┬────────────────┬────────────────┐\n",
       "│ Participant ┆ Question ┆ Response ┆ Question_right ┆ Construct ┆ Question # on  ┆ Needs Reverse  │\n",
       "│ ---         ┆ ---      ┆ ---      ┆ ---            ┆ ---       ┆ Qualtrics      ┆ Coding?        │\n",
       "│ u32         ┆ str      ┆ str      ┆ str            ┆ i64       ┆ Survey         ┆ ---            │\n",
       "│             ┆          ┆          ┆                ┆           ┆ ---            ┆ str            │\n",
       "│             ┆          ┆          ┆                ┆           ┆ i64            ┆                │\n",
       "╞═════════════╪══════════╪══════════╪════════════════╪═══════════╪════════════════╪════════════════╡\n",
       "│ 1           ┆ F1       ┆ Somewhat ┆ In the future, ┆ 1         ┆ 1              ┆ No             │\n",
       "│             ┆          ┆ Agree    ┆ I plan to      ┆           ┆                ┆                │\n",
       "│             ┆          ┆          ┆ parti…         ┆           ┆                ┆                │\n",
       "│ 2           ┆ F1       ┆ Somewhat ┆ In the future, ┆ 1         ┆ 1              ┆ No             │\n",
       "│             ┆          ┆ Agree    ┆ I plan to      ┆           ┆                ┆                │\n",
       "│             ┆          ┆          ┆ parti…         ┆           ┆                ┆                │\n",
       "│ 3           ┆ F1       ┆ Strongly ┆ In the future, ┆ 1         ┆ 1              ┆ No             │\n",
       "│             ┆          ┆ Agree    ┆ I plan to      ┆           ┆                ┆                │\n",
       "│             ┆          ┆          ┆ parti…         ┆           ┆                ┆                │\n",
       "│ 4           ┆ F1       ┆ Somewhat ┆ In the future, ┆ 1         ┆ 1              ┆ No             │\n",
       "│             ┆          ┆ Agree    ┆ I plan to      ┆           ┆                ┆                │\n",
       "│             ┆          ┆          ┆ parti…         ┆           ┆                ┆                │\n",
       "│ 5           ┆ F1       ┆ Strongly ┆ In the future, ┆ 1         ┆ 1              ┆ No             │\n",
       "│             ┆          ┆ Agree    ┆ I plan to      ┆           ┆                ┆                │\n",
       "│             ┆          ┆          ┆ parti…         ┆           ┆                ┆                │\n",
       "└─────────────┴──────────┴──────────┴────────────────┴───────────┴────────────────┴────────────────┘"
      ]
     },
     "execution_count": 15,
     "metadata": {},
     "output_type": "execute_result"
    }
   ],
   "source": [
    "Survey_stacked_joined = (Survey_stacked.join(Reverse_Coding, left_on='Question', right_on='Column Name', how='left'))\n",
    "Survey_stacked_joined.head()"
   ]
  },
  {
   "cell_type": "code",
   "execution_count": 24,
   "id": "f1d1dd10-2c5a-4d43-91aa-0f19f81c37b8",
   "metadata": {},
   "outputs": [
    {
     "ename": "SyntaxError",
     "evalue": "invalid syntax. Perhaps you forgot a comma? (472214739.py, line 2)",
     "output_type": "error",
     "traceback": [
      "\u001b[1;36m  Cell \u001b[1;32mIn[24], line 2\u001b[1;36m\u001b[0m\n\u001b[1;33m    pl.when(pl.col('Response')== \"Strongly Agree\").then(pl.lit(5))\u001b[0m\n\u001b[1;37m    ^\u001b[0m\n\u001b[1;31mSyntaxError\u001b[0m\u001b[1;31m:\u001b[0m invalid syntax. Perhaps you forgot a comma?\n"
     ]
    }
   ],
   "source": [
    "Survey_stacked_joined = Survey_stacked_joined.with_columns(\n",
    "    pl.when(pl.col('Response')== \"Strongly Agree\").then(pl.lit(5))\n",
    "    pl.when(pl.col('Response')== \"Somewhat Agree\").then(pl.lit(4))\n",
    "    pl.when(pl.col('Response')== \"Neither Agree nor Disagree\").then(pl.lit(3))\n",
    "    pl.when(pl.col('Response')== \"Somewhat Disagree\").then(pl.lit(2))\n",
    "    pl.when(pl.col('Response')== \"Strongly Disagree\").then(pl.lit(1))\n",
    "    .otherwise(pl.lit(None))\n",
    "    .alias(\"TempRecodeValue\"))\n",
    "Survey_stacked_joined.head()"
   ]
  },
  {
   "cell_type": "code",
   "execution_count": 21,
   "id": "4355371d-6362-4976-a67a-115695a9a675",
   "metadata": {},
   "outputs": [
    {
     "data": {
      "text/html": [
       "<div><style>\n",
       ".dataframe > thead > tr,\n",
       ".dataframe > tbody > tr {\n",
       "  text-align: right;\n",
       "  white-space: pre-wrap;\n",
       "}\n",
       "</style>\n",
       "<small>shape: (5, 8)</small><table border=\"1\" class=\"dataframe\"><thead><tr><th>Participant</th><th>Question</th><th>Response</th><th>Question_right</th><th>Construct</th><th>Question # on Qualtrics Survey</th><th>Needs Reverse Coding?</th><th>TempRecodeValue</th></tr><tr><td>u32</td><td>str</td><td>str</td><td>str</td><td>i64</td><td>i64</td><td>str</td><td>i32</td></tr></thead><tbody><tr><td>1</td><td>&quot;F1&quot;</td><td>&quot;Somewhat Agree&quot;</td><td>&quot;In the future, I plan to parti…</td><td>1</td><td>1</td><td>&quot;No&quot;</td><td>4</td></tr><tr><td>2</td><td>&quot;F1&quot;</td><td>&quot;Somewhat Agree&quot;</td><td>&quot;In the future, I plan to parti…</td><td>1</td><td>1</td><td>&quot;No&quot;</td><td>4</td></tr><tr><td>3</td><td>&quot;F1&quot;</td><td>&quot;Strongly Agree&quot;</td><td>&quot;In the future, I plan to parti…</td><td>1</td><td>1</td><td>&quot;No&quot;</td><td>5</td></tr><tr><td>4</td><td>&quot;F1&quot;</td><td>&quot;Somewhat Agree&quot;</td><td>&quot;In the future, I plan to parti…</td><td>1</td><td>1</td><td>&quot;No&quot;</td><td>4</td></tr><tr><td>5</td><td>&quot;F1&quot;</td><td>&quot;Strongly Agree&quot;</td><td>&quot;In the future, I plan to parti…</td><td>1</td><td>1</td><td>&quot;No&quot;</td><td>5</td></tr></tbody></table></div>"
      ],
      "text/plain": [
       "shape: (5, 8)\n",
       "┌────────────┬──────────┬────────────┬────────────┬───────────┬────────────┬───────────┬───────────┐\n",
       "│ Participan ┆ Question ┆ Response   ┆ Question_r ┆ Construct ┆ Question # ┆ Needs     ┆ TempRecod │\n",
       "│ t          ┆ ---      ┆ ---        ┆ ight       ┆ ---       ┆ on         ┆ Reverse   ┆ eValue    │\n",
       "│ ---        ┆ str      ┆ str        ┆ ---        ┆ i64       ┆ Qualtrics  ┆ Coding?   ┆ ---       │\n",
       "│ u32        ┆          ┆            ┆ str        ┆           ┆ Survey     ┆ ---       ┆ i32       │\n",
       "│            ┆          ┆            ┆            ┆           ┆ ---        ┆ str       ┆           │\n",
       "│            ┆          ┆            ┆            ┆           ┆ i64        ┆           ┆           │\n",
       "╞════════════╪══════════╪════════════╪════════════╪═══════════╪════════════╪═══════════╪═══════════╡\n",
       "│ 1          ┆ F1       ┆ Somewhat   ┆ In the     ┆ 1         ┆ 1          ┆ No        ┆ 4         │\n",
       "│            ┆          ┆ Agree      ┆ future, I  ┆           ┆            ┆           ┆           │\n",
       "│            ┆          ┆            ┆ plan to    ┆           ┆            ┆           ┆           │\n",
       "│            ┆          ┆            ┆ parti…     ┆           ┆            ┆           ┆           │\n",
       "│ 2          ┆ F1       ┆ Somewhat   ┆ In the     ┆ 1         ┆ 1          ┆ No        ┆ 4         │\n",
       "│            ┆          ┆ Agree      ┆ future, I  ┆           ┆            ┆           ┆           │\n",
       "│            ┆          ┆            ┆ plan to    ┆           ┆            ┆           ┆           │\n",
       "│            ┆          ┆            ┆ parti…     ┆           ┆            ┆           ┆           │\n",
       "│ 3          ┆ F1       ┆ Strongly   ┆ In the     ┆ 1         ┆ 1          ┆ No        ┆ 5         │\n",
       "│            ┆          ┆ Agree      ┆ future, I  ┆           ┆            ┆           ┆           │\n",
       "│            ┆          ┆            ┆ plan to    ┆           ┆            ┆           ┆           │\n",
       "│            ┆          ┆            ┆ parti…     ┆           ┆            ┆           ┆           │\n",
       "│ 4          ┆ F1       ┆ Somewhat   ┆ In the     ┆ 1         ┆ 1          ┆ No        ┆ 4         │\n",
       "│            ┆          ┆ Agree      ┆ future, I  ┆           ┆            ┆           ┆           │\n",
       "│            ┆          ┆            ┆ plan to    ┆           ┆            ┆           ┆           │\n",
       "│            ┆          ┆            ┆ parti…     ┆           ┆            ┆           ┆           │\n",
       "│ 5          ┆ F1       ┆ Strongly   ┆ In the     ┆ 1         ┆ 1          ┆ No        ┆ 5         │\n",
       "│            ┆          ┆ Agree      ┆ future, I  ┆           ┆            ┆           ┆           │\n",
       "│            ┆          ┆            ┆ plan to    ┆           ┆            ┆           ┆           │\n",
       "│            ┆          ┆            ┆ parti…     ┆           ┆            ┆           ┆           │\n",
       "└────────────┴──────────┴────────────┴────────────┴───────────┴────────────┴───────────┴───────────┘"
      ]
     },
     "execution_count": 21,
     "metadata": {},
     "output_type": "execute_result"
    }
   ],
   "source": [
    "Survey_stacked_joined = Survey_stacked_joined.with_columns(\n",
    "    pl.when(pl.col('Response') == \"Strongly Agree\").then(pl.lit(5))\n",
    "    .when(pl.col('Response') == \"Somewhat Agree\").then(pl.lit(4))\n",
    "    .when(pl.col('Response') == \"Neither Agree nor Disagree\").then(pl.lit(3))\n",
    "    .when(pl.col('Response') == \"Somewhat Disagree\").then(pl.lit(2))\n",
    "    .when(pl.col('Response') == \"Strongly Disagree\").then(pl.lit(1))\n",
    "    .otherwise(pl.lit(None))  # Default case if none of the conditions match\n",
    "    .alias(\"TempRecodeValue\")\n",
    ")\n",
    "\n",
    "Survey_stacked_joined.head()"
   ]
  },
  {
   "cell_type": "code",
   "execution_count": null,
   "id": "2bd0d138-be0a-4f4d-98ef-1497e791cb77",
   "metadata": {},
   "outputs": [],
   "source": []
  }
 ],
 "metadata": {
  "kernelspec": {
   "display_name": "Python 3 (ipykernel)",
   "language": "python",
   "name": "python3"
  },
  "language_info": {
   "codemirror_mode": {
    "name": "ipython",
    "version": 3
   },
   "file_extension": ".py",
   "mimetype": "text/x-python",
   "name": "python",
   "nbconvert_exporter": "python",
   "pygments_lexer": "ipython3",
   "version": "3.12.5"
  }
 },
 "nbformat": 4,
 "nbformat_minor": 5
}
